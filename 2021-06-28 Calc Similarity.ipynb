{
 "cells": [
  {
   "cell_type": "markdown",
   "metadata": {},
   "source": [
    "Грузим либы"
   ]
  },
  {
   "cell_type": "code",
   "execution_count": 1,
   "metadata": {},
   "outputs": [],
   "source": [
    "from glob import glob\n",
    "import pandas as pd\n",
    "from collections import Counter\n",
    "import math\n",
    "import itertools\n",
    "from difflib import SequenceMatcher"
   ]
  },
  {
   "cell_type": "markdown",
   "metadata": {},
   "source": [
    "Две ключевых метрики рассчитываются с помощью:\n",
    "    - Функции для расчёта схожести двух списков `counter_cosine_similarity`\n",
    "    - Метода для расчёта схожести двух документов `SequenceMatcher.ratio()`"
   ]
  },
  {
   "cell_type": "code",
   "execution_count": 2,
   "metadata": {},
   "outputs": [],
   "source": [
    "def counter_cosine_similarity(c1, c2):\n",
    "    '''\n",
    "    Функция для расчёта схожести двух списков\n",
    "    '''\n",
    "    terms = set(c1).union(c2)\n",
    "    dotprod = sum(c1.get(k, 0) * c2.get(k, 0) for k in terms)\n",
    "    magA = math.sqrt(sum(c1.get(k, 0)**2 for k in terms))\n",
    "    magB = math.sqrt(sum(c2.get(k, 0)**2 for k in terms))\n",
    "    return dotprod / (magA * magB)"
   ]
  },
  {
   "cell_type": "markdown",
   "metadata": {},
   "source": [
    "Читаем данные из студенческих файлов с кодом. Файлы хранятся в папке `works` с разрешением `py`"
   ]
  },
  {
   "cell_type": "code",
   "execution_count": 3,
   "metadata": {},
   "outputs": [],
   "source": [
    "files = glob('works/*.py')\n",
    "all_data = []\n",
    "for file in files:\n",
    "    file_data = []\n",
    "    with open(file, 'r', encoding='utf-8') as f:\n",
    "        file_data = f.readlines()\n",
    "    d = {'name':file.replace('works\\\\review_homework_id_',''), 'file_data':file_data}\n",
    "    all_data.append(d)"
   ]
  },
  {
   "cell_type": "markdown",
   "metadata": {},
   "source": [
    "Предобратываем данные:\n",
    "- убираем строки, начинающиеся с #;\n",
    "- удаляем пустые строки;\n",
    "- убираем in-line комментарии\n",
    "- убираем multiline комментарии"
   ]
  },
  {
   "cell_type": "code",
   "execution_count": 4,
   "metadata": {},
   "outputs": [],
   "source": [
    "for item in all_data:\n",
    "    rows = item['file_data']\n",
    "    new_rows = []\n",
    "    kr = False\n",
    "    for row in rows:\n",
    "        row = row.strip()\n",
    "        if row.startswith('#'):\n",
    "            continue\n",
    "        if row == '\\n':\n",
    "            continue\n",
    "        if len(row) == 0:\n",
    "            continue\n",
    "        if '#' in row:\n",
    "            row = row.split('#')[0]\n",
    "        if (row == '\"\"\"') and (kr == False):\n",
    "            kr = True\n",
    "            continue\n",
    "        if (row == '\"\"\"') and (kr == True):\n",
    "            kr = False\n",
    "            continue\n",
    "        if (row != '\"\"\"') and (kr == True):\n",
    "            continue\n",
    "        row = row.strip()\n",
    "        new_rows.append(row)\n",
    "    item['new_file_data'] = new_rows"
   ]
  },
  {
   "cell_type": "markdown",
   "metadata": {},
   "source": [
    "Считаем статистику схожести по парам"
   ]
  },
  {
   "cell_type": "code",
   "execution_count": 5,
   "metadata": {},
   "outputs": [],
   "source": [
    "combs = set(itertools.combinations([item['name'] for item in all_data], 2))\n",
    "stats = []\n",
    "for comb in combs:\n",
    "    a1 = next(item for item in all_data if item[\"name\"] == comb[0])\n",
    "    a2 = next(item for item in all_data if item[\"name\"] == comb[1])\n",
    "    counterA = Counter(a1['new_file_data'])\n",
    "    counterB = Counter(a2['new_file_data'])\n",
    "    similarity = counter_cosine_similarity(counterA,counterB)\n",
    "    similarity_2 = SequenceMatcher(None, a1['new_file_data'], a2['new_file_data']).ratio()\n",
    "    seq_match_blocks = SequenceMatcher(None, a1['new_file_data'], a2['new_file_data']).get_matching_blocks()\n",
    "    d = {'doc1':comb[0],'doc2':comb[1],'similarity':similarity, 'similarity_2':similarity_2, 'matching_blocks': seq_match_blocks}\n",
    "    stats.append(d)"
   ]
  },
  {
   "cell_type": "markdown",
   "metadata": {},
   "source": [
    "Загоняем статистику в датафрейм"
   ]
  },
  {
   "cell_type": "code",
   "execution_count": 6,
   "metadata": {},
   "outputs": [
    {
     "data": {
      "text/html": [
       "<div>\n",
       "<style scoped>\n",
       "    .dataframe tbody tr th:only-of-type {\n",
       "        vertical-align: middle;\n",
       "    }\n",
       "\n",
       "    .dataframe tbody tr th {\n",
       "        vertical-align: top;\n",
       "    }\n",
       "\n",
       "    .dataframe thead th {\n",
       "        text-align: right;\n",
       "    }\n",
       "</style>\n",
       "<table border=\"1\" class=\"dataframe\">\n",
       "  <thead>\n",
       "    <tr style=\"text-align: right;\">\n",
       "      <th></th>\n",
       "      <th>doc1</th>\n",
       "      <th>doc2</th>\n",
       "      <th>similarity</th>\n",
       "      <th>similarity_2</th>\n",
       "      <th>matching_blocks</th>\n",
       "    </tr>\n",
       "  </thead>\n",
       "  <tbody>\n",
       "    <tr>\n",
       "      <th>95</th>\n",
       "      <td>124111.py</td>\n",
       "      <td>124350.py</td>\n",
       "      <td>0.581055</td>\n",
       "      <td>0.380048</td>\n",
       "      <td>[(0, 0, 1), (4, 1, 1), (6, 3, 1), (7, 21, 1), ...</td>\n",
       "    </tr>\n",
       "    <tr>\n",
       "      <th>100</th>\n",
       "      <td>125915.py</td>\n",
       "      <td>127334.py</td>\n",
       "      <td>0.276196</td>\n",
       "      <td>0.155172</td>\n",
       "      <td>[(0, 0, 1), (1, 3, 1), (2, 39, 1), (3, 53, 1),...</td>\n",
       "    </tr>\n",
       "    <tr>\n",
       "      <th>0</th>\n",
       "      <td>124687.py</td>\n",
       "      <td>125378.py</td>\n",
       "      <td>0.275522</td>\n",
       "      <td>0.112245</td>\n",
       "      <td>[(0, 0, 2), (2, 46, 1), (29, 47, 4), (52, 51, ...</td>\n",
       "    </tr>\n",
       "    <tr>\n",
       "      <th>97</th>\n",
       "      <td>124408.py</td>\n",
       "      <td>127942.py</td>\n",
       "      <td>0.239011</td>\n",
       "      <td>0.156250</td>\n",
       "      <td>[(1, 0, 2), (3, 3, 1), (15, 32, 2), (17, 35, 1...</td>\n",
       "    </tr>\n",
       "    <tr>\n",
       "      <th>101</th>\n",
       "      <td>125378.py</td>\n",
       "      <td>125915.py</td>\n",
       "      <td>0.238422</td>\n",
       "      <td>0.149068</td>\n",
       "      <td>[(0, 0, 2), (3, 3, 1), (5, 4, 1), (6, 6, 1), (...</td>\n",
       "    </tr>\n",
       "  </tbody>\n",
       "</table>\n",
       "</div>"
      ],
      "text/plain": [
       "          doc1       doc2  similarity  similarity_2  \\\n",
       "95   124111.py  124350.py    0.581055      0.380048   \n",
       "100  125915.py  127334.py    0.276196      0.155172   \n",
       "0    124687.py  125378.py    0.275522      0.112245   \n",
       "97   124408.py  127942.py    0.239011      0.156250   \n",
       "101  125378.py  125915.py    0.238422      0.149068   \n",
       "\n",
       "                                       matching_blocks  \n",
       "95   [(0, 0, 1), (4, 1, 1), (6, 3, 1), (7, 21, 1), ...  \n",
       "100  [(0, 0, 1), (1, 3, 1), (2, 39, 1), (3, 53, 1),...  \n",
       "0    [(0, 0, 2), (2, 46, 1), (29, 47, 4), (52, 51, ...  \n",
       "97   [(1, 0, 2), (3, 3, 1), (15, 32, 2), (17, 35, 1...  \n",
       "101  [(0, 0, 2), (3, 3, 1), (5, 4, 1), (6, 6, 1), (...  "
      ]
     },
     "metadata": {},
     "output_type": "display_data"
    }
   ],
   "source": [
    "df = pd.DataFrame(stats).sort_values('similarity',ascending=False)\n",
    "display(df.head())"
   ]
  },
  {
   "cell_type": "markdown",
   "metadata": {},
   "source": [
    "Проанализируем самый совпадающий блок кода"
   ]
  },
  {
   "cell_type": "code",
   "execution_count": 7,
   "metadata": {},
   "outputs": [
    {
     "name": "stdout",
     "output_type": "stream",
     "text": [
      "Match(a=39, b=45, size=43)\n",
      " \n",
      "doc1\n",
      "['l = [', \"{ 'A': 1, 'B': 3 },\", \"{ 'A': 2, 'B': 3 },\", \"{ 'A': 4, 'B': 5 }\", ']', 'dfq = pd.DataFrame(l)', 'dfq', 'def squared(df):', \"'''\", 'Функция принимает таблицу, меняет элементы на их квадраты и возвращает уже таблицу с квадратами.', \"'''\", \"df['A'] = df['A']*df['A']\", \"df['B'] = df['B']*df['B']\", 'return df', 'squared(dfq)', 'dfq', 'def unsquared(df):', \"'''\", 'Берет квадратный корень.', 'Принимает: таблицу.', 'Возвращает: таблицу, из элементов которой взят квадратный корень.', \"'''\", 'import numpy as np', \"df['A'] = np.sqrt(df['A']).astype(int)\", \"df['B'] = np.sqrt(df['B']).astype(int)\", 'return df', 'unsquared(dfq)', 'dfq', 'def sum_(row):', \"'''\", 'Функция принимает таблицу построчно. Возвращает сумму элементов.', 'Применяется ко всей таблице через метод apply с аргументом axis=1, то есть построчно.', \"'''\", \"return row['A']+row['B']\", \"dfq['Sum'] = dfq.apply(sum_, axis=1)\", 'dfq', \"dfq['Sum2'] = dfq.apply(lambda row: row['A'] + row['B'], axis=1)\", 'dfq', \"dfq['Total_sum'] = dfq.apply(lambda row: row.sum(), axis=1)\", 'dfq', 'import numpy as np', \"dfq['Total_sum2'] = dfq.apply(np.sum, axis=1)\", 'dfq']\n",
      "\n",
      "doc2\n",
      "['l = [', \"{ 'A': 1, 'B': 3 },\", \"{ 'A': 2, 'B': 3 },\", \"{ 'A': 4, 'B': 5 }\", ']', 'dfq = pd.DataFrame(l)', 'dfq', 'def squared(df):', \"'''\", 'Функция принимает таблицу, меняет элементы на их квадраты и возвращает уже таблицу с квадратами.', \"'''\", \"df['A'] = df['A']*df['A']\", \"df['B'] = df['B']*df['B']\", 'return df', 'squared(dfq)', 'dfq', 'def unsquared(df):', \"'''\", 'Берет квадратный корень.', 'Принимает: таблицу.', 'Возвращает: таблицу, из элементов которой взят квадратный корень.', \"'''\", 'import numpy as np', \"df['A'] = np.sqrt(df['A']).astype(int)\", \"df['B'] = np.sqrt(df['B']).astype(int)\", 'return df', 'unsquared(dfq)', 'dfq', 'def sum_(row):', \"'''\", 'Функция принимает таблицу построчно. Возвращает сумму элементов.', 'Применяется ко всей таблице через метод apply с аргументом axis=1, то есть построчно.', \"'''\", \"return row['A']+row['B']\", \"dfq['Sum'] = dfq.apply(sum_, axis=1)\", 'dfq', \"dfq['Sum2'] = dfq.apply(lambda row: row['A'] + row['B'], axis=1)\", 'dfq', \"dfq['Total_sum'] = dfq.apply(lambda row: row.sum(), axis=1)\", 'dfq', 'import numpy as np', \"dfq['Total_sum2'] = dfq.apply(np.sum, axis=1)\", 'dfq']\n"
     ]
    }
   ],
   "source": [
    "index = 0\n",
    "matching_blocks = sorted(df.iloc[index]['matching_blocks'], key=lambda x: x.size, reverse=True)\n",
    "print(matching_blocks[0])\n",
    "print(' ')\n",
    "doc1 = next(item for item in all_data if item[\"name\"] == df.iloc[index]['doc1'])['new_file_data']\n",
    "doc2 = next(item for item in all_data if item[\"name\"] == df.iloc[index]['doc2'])['new_file_data']\n",
    "print('doc1')\n",
    "print(doc1[matching_blocks[0].a:matching_blocks[0].a+matching_blocks[0].size])\n",
    "print('')\n",
    "print('doc2')\n",
    "print(doc2[matching_blocks[0].b:matching_blocks[0].b+matching_blocks[0].size])"
   ]
  },
  {
   "cell_type": "code",
   "execution_count": null,
   "metadata": {},
   "outputs": [],
   "source": []
  }
 ],
 "metadata": {
  "kernelspec": {
   "display_name": "Python 3",
   "language": "python",
   "name": "python3"
  },
  "language_info": {
   "codemirror_mode": {
    "name": "ipython",
    "version": 3
   },
   "file_extension": ".py",
   "mimetype": "text/x-python",
   "name": "python",
   "nbconvert_exporter": "python",
   "pygments_lexer": "ipython3",
   "version": "3.7.6"
  }
 },
 "nbformat": 4,
 "nbformat_minor": 4
}
